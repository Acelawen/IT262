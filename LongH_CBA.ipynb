{
  "nbformat": 4,
  "nbformat_minor": 0,
  "metadata": {
    "colab": {
      "name": "LongH_CBA.ipynb",
      "provenance": [],
      "collapsed_sections": [],
      "mount_file_id": "1KWOHsvPUEeSGZGxanijM0zXYz-VXsvEQ",
      "authorship_tag": "ABX9TyMUN1QX34rDs4rk/PgqGON+",
      "include_colab_link": true
    },
    "kernelspec": {
      "name": "python3",
      "display_name": "Python 3"
    },
    "language_info": {
      "name": "python"
    }
  },
  "cells": [
    {
      "cell_type": "markdown",
      "metadata": {
        "id": "view-in-github",
        "colab_type": "text"
      },
      "source": [
        "<a href=\"https://colab.research.google.com/github/Acelawen/LongH_IT262/blob/main/LongH_CBA.ipynb\" target=\"_parent\"><img src=\"https://colab.research.google.com/assets/colab-badge.svg\" alt=\"Open In Colab\"/></a>"
      ]
    },
    {
      "cell_type": "code",
      "execution_count": 1,
      "metadata": {
        "colab": {
          "base_uri": "https://localhost:8080/"
        },
        "id": "DGuY6WBD8FZA",
        "outputId": "8d6666eb-d974-4945-cc27-048e8da7f00e"
      },
      "outputs": [
        {
          "output_type": "stream",
          "name": "stdout",
          "text": [
            "   years  developmentCost  operationalCost  valueOfBenefits\n",
            "0      0             -100                0                0\n",
            "1      1              -30              -10               25\n",
            "2      2                0              -15               55\n",
            "3      3                0              -15               85\n"
          ]
        }
      ],
      "source": [
        "import pandas as pd\n",
        "import math\n",
        "\n",
        "dataT = pd.read_csv(\"/content/drive/MyDrive/CBA-IT/262-CBA.csv\")\n",
        "print(dataT)"
      ]
    },
    {
      "cell_type": "code",
      "source": [
        "#Set your own discount rate\n",
        "discountRate = 0.05\n",
        "\n",
        "#Calculate the compound discount over the years\n",
        "#Initialize a list of 4 elements - one for each year, 0 to 3\n",
        "discountFactor = [0,0,0,0]\n",
        "for year in dataT['years']:\n",
        "  discountFactor[year]=1/math.pow((1+discountRate), year)\n",
        "\n",
        "dataT['discountFactor']=[round(num, 2) for num in discountFactor]\n",
        "print(dataT)"
      ],
      "metadata": {
        "colab": {
          "base_uri": "https://localhost:8080/"
        },
        "id": "h0wnin4T-Imx",
        "outputId": "707b4ea2-c82a-4a43-92f2-a82db5dde581"
      },
      "execution_count": 7,
      "outputs": [
        {
          "output_type": "stream",
          "name": "stdout",
          "text": [
            "   years  developmentCost  operationalCost  valueOfBenefits  discountFactor\n",
            "0      0             -100                0                0            1.00\n",
            "1      1              -30              -10               25            0.95\n",
            "2      2                0              -15               55            0.91\n",
            "3      3                0              -15               85            0.86\n"
          ]
        }
      ]
    },
    {
      "cell_type": "code",
      "source": [
        "#Calculate net benefit/cost for each year\n",
        "#Sum of all benefits and cost for each year : op cost + dev cost + benefit\n",
        "\n",
        "#Initialize a list of 4 items\n",
        "NetBC = [0,0,0,0]\n",
        "for year in dataT['years']:\n",
        "  NetBC[year]= dataT['developmentCost'][year]+dataT['operationalCost'][year]+dataT['valueOfBenefits'][year]\n",
        "\n",
        "dataT['NetBC'] = NetBC\n",
        "print(dataT)"
      ],
      "metadata": {
        "colab": {
          "base_uri": "https://localhost:8080/"
        },
        "id": "XKKsl-RMAvfx",
        "outputId": "2120184a-69c9-4340-e3d0-90ad56507e5b"
      },
      "execution_count": 10,
      "outputs": [
        {
          "output_type": "stream",
          "name": "stdout",
          "text": [
            "   years  developmentCost  operationalCost  ...  discountFactor  NetBC     NPV\n",
            "0      0             -100                0  ...            1.00   -100 -100.00\n",
            "1      1              -30              -10  ...            0.95    -15  -14.25\n",
            "2      2                0              -15  ...            0.91     40   36.40\n",
            "3      3                0              -15  ...            0.86     70   60.20\n",
            "\n",
            "[4 rows x 7 columns]\n"
          ]
        }
      ]
    },
    {
      "cell_type": "code",
      "source": [
        "#Calculate the present value of the net B/C for each year\n",
        "#We call it NPV\n",
        "\n",
        "#Initialize another list of 4 item - one for each year\n",
        "NPV=[0,0,0,0]\n",
        "for year in dataT['years']:\n",
        "  NPV[year]=dataT['NetBC'][year]*dataT['discountFactor'][year]\n",
        "\n",
        "dataT['NPV']=[round(num, 2) for num in NPV]\n",
        "print(dataT)"
      ],
      "metadata": {
        "colab": {
          "base_uri": "https://localhost:8080/"
        },
        "id": "MbidJy2OC7ef",
        "outputId": "84fa3d86-4bca-4939-ba33-1eea4aebe44b"
      },
      "execution_count": 9,
      "outputs": [
        {
          "output_type": "stream",
          "name": "stdout",
          "text": [
            "   years  developmentCost  operationalCost  ...  discountFactor  NetBC     NPV\n",
            "0      0             -100                0  ...            1.00   -100 -100.00\n",
            "1      1              -30              -10  ...            0.95    -15  -14.25\n",
            "2      2                0              -15  ...            0.91     40   36.40\n",
            "3      3                0              -15  ...            0.86     70   60.20\n",
            "\n",
            "[4 rows x 7 columns]\n"
          ]
        }
      ]
    }
  ]
}