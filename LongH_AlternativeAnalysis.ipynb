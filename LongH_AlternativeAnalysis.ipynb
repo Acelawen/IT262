{
  "nbformat": 4,
  "nbformat_minor": 0,
  "metadata": {
    "colab": {
      "name": "LongH_AlternativeAnalysis.ipynb",
      "provenance": [],
      "collapsed_sections": [],
      "authorship_tag": "ABX9TyMMPgCFtV14x+ppFSoZafcE",
      "include_colab_link": true
    },
    "kernelspec": {
      "name": "python3",
      "display_name": "Python 3"
    },
    "language_info": {
      "name": "python"
    }
  },
  "cells": [
    {
      "cell_type": "markdown",
      "metadata": {
        "id": "view-in-github",
        "colab_type": "text"
      },
      "source": [
        "<a href=\"https://colab.research.google.com/github/Acelawen/LongH_IT262/blob/main/LongH_AlternativeAnalysis.ipynb\" target=\"_parent\"><img src=\"https://colab.research.google.com/assets/colab-badge.svg\" alt=\"Open In Colab\"/></a>"
      ]
    },
    {
      "cell_type": "code",
      "execution_count": 2,
      "metadata": {
        "colab": {
          "base_uri": "https://localhost:8080/"
        },
        "id": "8VjS48dR-m_1",
        "outputId": "aaad6f83-5f3d-433a-a478-bd3d19beb4a7"
      },
      "outputs": [
        {
          "output_type": "stream",
          "name": "stdout",
          "text": [
            "Empty DataFrame\n",
            "Columns: [criteria, weight, ratingA, ratingB, scoreA, scoreB]\n",
            "Index: []\n"
          ]
        }
      ],
      "source": [
        "import pandas as pd \n",
        "\n",
        "#Create a dataframe for our AA\n",
        "AA = pd.DataFrame(columns=['criteria', 'weight', 'ratingA', 'ratingB', 'scoreA', 'scoreB'])\n",
        "print(AA)"
      ]
    },
    {
      "cell_type": "code",
      "source": [
        "#First step: identify a set of criteria \n",
        "\n",
        "AA['criteria'] = ['Risk','ROI', 'Feasibility', 'Customer satisfaction', 'Strategic aligments']\n",
        "print(AA)"
      ],
      "metadata": {
        "colab": {
          "base_uri": "https://localhost:8080/"
        },
        "id": "L2xiNGq9_WYZ",
        "outputId": "9ac5a9b5-6392-4109-a59d-cd29a43b9ea8"
      },
      "execution_count": 3,
      "outputs": [
        {
          "output_type": "stream",
          "name": "stdout",
          "text": [
            "                criteria weight ratingA ratingB scoreA scoreB\n",
            "0                   Risk    NaN     NaN     NaN    NaN    NaN\n",
            "1                    ROI    NaN     NaN     NaN    NaN    NaN\n",
            "2            Feasibility    NaN     NaN     NaN    NaN    NaN\n",
            "3  Customer satisfaction    NaN     NaN     NaN    NaN    NaN\n",
            "4    Strategic aligments    NaN     NaN     NaN    NaN    NaN\n"
          ]
        }
      ]
    },
    {
      "cell_type": "code",
      "source": [
        "#Step two: To assign weights \n",
        "#Weights show relative importance of each criterion \n",
        "#The weights should add up to 1 or 100\n",
        "AA['weight']=[0.1, 0.15, 0.3, 0.15, 0.3]\n",
        "print(AA)"
      ],
      "metadata": {
        "colab": {
          "base_uri": "https://localhost:8080/"
        },
        "id": "rrQ4nc5r_wMV",
        "outputId": "094e01c7-01c2-47ee-a32f-ec54cc082ad4"
      },
      "execution_count": 4,
      "outputs": [
        {
          "output_type": "stream",
          "name": "stdout",
          "text": [
            "                criteria  weight ratingA ratingB scoreA scoreB\n",
            "0                   Risk    0.10     NaN     NaN    NaN    NaN\n",
            "1                    ROI    0.15     NaN     NaN    NaN    NaN\n",
            "2            Feasibility    0.30     NaN     NaN    NaN    NaN\n",
            "3  Customer satisfaction    0.15     NaN     NaN    NaN    NaN\n",
            "4    Strategic aligments    0.30     NaN     NaN    NaN    NaN\n"
          ]
        }
      ]
    },
    {
      "cell_type": "code",
      "source": [
        "#Step three: rate each alternative across all criteria \n",
        "#Choose a scale: 1-3, 1-5, ...\n",
        "#Higher number: an alternative is doing better regarding the given criterion\n",
        "\n",
        "AA['ratingA']=[4,1,2,1,5]\n",
        "AA['ratingB']=[3,4,2,3,2]\n",
        "\n",
        "#Step four: calculate partial scores by ratings * weights\n",
        "#Using iterrows is a bad ideas - Called an anti pattern\n",
        "\n",
        "for index, row in AA.iterrows():\n",
        "  AA['scoreA'][index]=row['weight']*row['ratingA']\n",
        "  AA['scoreB'][index]=row['weight']*row['ratingB']\n",
        "\n",
        "print(AA)"
      ],
      "metadata": {
        "colab": {
          "base_uri": "https://localhost:8080/"
        },
        "id": "Fs-QY998AjYE",
        "outputId": "3790eaf5-fe61-4933-9d5c-c1d409507c18"
      },
      "execution_count": 8,
      "outputs": [
        {
          "output_type": "stream",
          "name": "stdout",
          "text": [
            "                criteria  weight  ratingA  ratingB  scoreA scoreB\n",
            "0                   Risk    0.10        4        3    0.40    0.3\n",
            "1                    ROI    0.15        1        4    0.15    0.6\n",
            "2            Feasibility    0.30        2        2    0.60    0.6\n",
            "3  Customer satisfaction    0.15        1        3    0.15   0.45\n",
            "4    Strategic aligments    0.30        5        2    1.50    0.6\n"
          ]
        },
        {
          "output_type": "stream",
          "name": "stderr",
          "text": [
            "/usr/local/lib/python3.7/dist-packages/ipykernel_launcher.py:12: SettingWithCopyWarning: \n",
            "A value is trying to be set on a copy of a slice from a DataFrame\n",
            "\n",
            "See the caveats in the documentation: https://pandas.pydata.org/pandas-docs/stable/user_guide/indexing.html#returning-a-view-versus-a-copy\n",
            "  if sys.path[0] == '':\n",
            "/usr/local/lib/python3.7/dist-packages/ipykernel_launcher.py:13: SettingWithCopyWarning: \n",
            "A value is trying to be set on a copy of a slice from a DataFrame\n",
            "\n",
            "See the caveats in the documentation: https://pandas.pydata.org/pandas-docs/stable/user_guide/indexing.html#returning-a-view-versus-a-copy\n",
            "  del sys.path[0]\n"
          ]
        }
      ]
    },
    {
      "cell_type": "code",
      "source": [
        "#Step 5: Add up partial scores to get a total score\n",
        "#The atlernative with the highest total score should be proposed \n",
        "\n",
        "totalScoreA = 0\n",
        "totalScoreB = 0\n",
        "\n",
        "for index, row in AA.iterrows():\n",
        "  totalScoreA+=row['scoreA']\n",
        "  totalScoreB+=row['scoreB']\n",
        "\n",
        "print('the total score for alternative A is {:.2f} and for alternative B is {:.2f}'.format(totalScoreA, totalScoreB))"
      ],
      "metadata": {
        "colab": {
          "base_uri": "https://localhost:8080/"
        },
        "id": "c6saR-M9B1ko",
        "outputId": "1782b7f8-3146-4645-d41b-b7d646987122"
      },
      "execution_count": 9,
      "outputs": [
        {
          "output_type": "stream",
          "name": "stdout",
          "text": [
            "the total score for alternative A is 2.80 and for alternative B is 2.55\n"
          ]
        }
      ]
    }
  ]
}